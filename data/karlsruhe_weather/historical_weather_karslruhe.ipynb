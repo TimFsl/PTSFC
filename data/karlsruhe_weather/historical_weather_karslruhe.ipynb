{
 "cells": [
  {
   "cell_type": "markdown",
   "metadata": {},
   "source": [
    "#### Historical Weather Karslruhe"
   ]
  },
  {
   "cell_type": "code",
   "execution_count": 1,
   "metadata": {},
   "outputs": [
    {
     "name": "stdout",
     "output_type": "stream",
     "text": [
      "Coordinates 49.033390045166016°N 8.432708740234375°E\n",
      "Elevation 118.0 m asl\n",
      "Timezone NoneNone\n",
      "Timezone difference to GMT+0 0 s\n",
      "                            date  temperature_2m  relative_humidity_2m  \\\n",
      "0      2012-01-01 00:00:00+00:00        9.762501             96.372925   \n",
      "1      2012-01-01 01:00:00+00:00        9.812500             96.699097   \n",
      "2      2012-01-01 02:00:00+00:00        9.912500             96.053635   \n",
      "3      2012-01-01 03:00:00+00:00        9.962501             96.055168   \n",
      "4      2012-01-01 04:00:00+00:00        9.962501             95.732712   \n",
      "...                          ...             ...                   ...   \n",
      "115411 2025-03-01 19:00:00+00:00        5.228000             72.985779   \n",
      "115412 2025-03-01 20:00:00+00:00        5.178000             73.769310   \n",
      "115413 2025-03-01 21:00:00+00:00        4.128000             76.291832   \n",
      "115414 2025-03-01 22:00:00+00:00        2.978000             77.780182   \n",
      "115415 2025-03-01 23:00:00+00:00        2.328000             79.398842   \n",
      "\n",
      "        precipitation  weather_code  cloud_cover  wind_speed_10m  \\\n",
      "0                 0.0           3.0        100.0       16.434305   \n",
      "1                 0.0           3.0        100.0       15.575981   \n",
      "2                 0.0           3.0        100.0       15.307410   \n",
      "3                 0.0           3.0        100.0       16.299694   \n",
      "4                 0.0           3.0        100.0       15.530151   \n",
      "...               ...           ...          ...             ...   \n",
      "115411            0.0           3.0        100.0       12.632101   \n",
      "115412            0.0           3.0         97.0       14.233664   \n",
      "115413            0.0           2.0         58.0       14.813683   \n",
      "115414            0.0           1.0         30.0       13.780290   \n",
      "115415            0.0           0.0          7.0       12.367716   \n",
      "\n",
      "        shortwave_radiation  \n",
      "0                       0.0  \n",
      "1                       0.0  \n",
      "2                       0.0  \n",
      "3                       0.0  \n",
      "4                       0.0  \n",
      "...                     ...  \n",
      "115411                  0.0  \n",
      "115412                  0.0  \n",
      "115413                  0.0  \n",
      "115414                  0.0  \n",
      "115415                  0.0  \n",
      "\n",
      "[115416 rows x 8 columns]\n"
     ]
    }
   ],
   "source": [
    "import openmeteo_requests\n",
    "\n",
    "import requests_cache\n",
    "import pandas as pd\n",
    "from retry_requests import retry\n",
    "\n",
    "# Setup the Open-Meteo API client with cache and retry on error\n",
    "cache_session = requests_cache.CachedSession('.cache', expire_after = -1)\n",
    "retry_session = retry(cache_session, retries = 5, backoff_factor = 0.2)\n",
    "openmeteo = openmeteo_requests.Client(session = retry_session)\n",
    "\n",
    "# Make sure all required weather variables are listed here\n",
    "# The order of variables in hourly or daily is important to assign them correctly below\n",
    "url = \"https://archive-api.open-meteo.com/v1/archive\"\n",
    "params = {\n",
    "\t\"latitude\": 49.0076,\n",
    "\t\"longitude\": 8.4012,\n",
    "\t\"start_date\": \"2012-01-01\",\n",
    "\t\"end_date\": \"2025-03-01\",\n",
    "\t\"hourly\": [\"temperature_2m\", \"relative_humidity_2m\", \"precipitation\", \"weather_code\", \"cloud_cover\", \"wind_speed_10m\", \"shortwave_radiation\"]\n",
    "}\n",
    "responses = openmeteo.weather_api(url, params=params)\n",
    "\n",
    "# Process first location. Add a for-loop for multiple locations or weather models\n",
    "response = responses[0]\n",
    "print(f\"Coordinates {response.Latitude()}°N {response.Longitude()}°E\")\n",
    "print(f\"Elevation {response.Elevation()} m asl\")\n",
    "print(f\"Timezone {response.Timezone()}{response.TimezoneAbbreviation()}\")\n",
    "print(f\"Timezone difference to GMT+0 {response.UtcOffsetSeconds()} s\")\n",
    "\n",
    "\t\t\t\t\t\t\t# Process hourly data. The order of variables needs to be the same as requested.\n",
    "hourly = response.Hourly()\n",
    "hourly_temperature_2m = hourly.Variables(0).ValuesAsNumpy()\n",
    "hourly_relative_humidity_2m = hourly.Variables(1).ValuesAsNumpy()\n",
    "hourly_precipitation = hourly.Variables(2).ValuesAsNumpy()\n",
    "hourly_weather_code = hourly.Variables(3).ValuesAsNumpy()\n",
    "hourly_cloud_cover = hourly.Variables(4).ValuesAsNumpy()\n",
    "hourly_wind_speed_10m = hourly.Variables(5).ValuesAsNumpy()\n",
    "hourly_shortwave_radiation = hourly.Variables(6).ValuesAsNumpy()\n",
    "\n",
    "hourly_data = {\"date\": pd.date_range(\n",
    "\tstart = pd.to_datetime(hourly.Time(), unit = \"s\", utc = True),\n",
    "\tend = pd.to_datetime(hourly.TimeEnd(), unit = \"s\", utc = True),\n",
    "\tfreq = pd.Timedelta(seconds = hourly.Interval()),\n",
    "\tinclusive = \"left\"\n",
    ")}\n",
    "\n",
    "hourly_data[\"temperature_2m\"] = hourly_temperature_2m\n",
    "hourly_data[\"relative_humidity_2m\"] = hourly_relative_humidity_2m\n",
    "hourly_data[\"precipitation\"] = hourly_precipitation\n",
    "hourly_data[\"weather_code\"] = hourly_weather_code\n",
    "hourly_data[\"cloud_cover\"] = hourly_cloud_cover\n",
    "hourly_data[\"wind_speed_10m\"] = hourly_wind_speed_10m\n",
    "hourly_data[\"shortwave_radiation\"] = hourly_shortwave_radiation\n",
    "\n",
    "hourly_dataframe = pd.DataFrame(data = hourly_data)\n",
    "print(hourly_dataframe)\n",
    "\n"
   ]
  },
  {
   "cell_type": "code",
   "execution_count": 2,
   "metadata": {},
   "outputs": [],
   "source": [
    "historical_weather = hourly_dataframe.copy()\n",
    "\n",
    "historical_weather.rename(columns={'date': 'Datetime'}, inplace=True)\n",
    "historical_weather['Datetime'] = pd.to_datetime(historical_weather['Datetime']) \n",
    "historical_weather = historical_weather.set_index('Datetime')\n",
    "historical_weather = historical_weather.tz_convert('Europe/Berlin')"
   ]
  },
  {
   "cell_type": "code",
   "execution_count": 3,
   "metadata": {},
   "outputs": [],
   "source": [
    "historical_weather.to_csv(\"historical_weather_karslruhe.csv\")"
   ]
  }
 ],
 "metadata": {
  "kernelspec": {
   "display_name": "base",
   "language": "python",
   "name": "python3"
  },
  "language_info": {
   "codemirror_mode": {
    "name": "ipython",
    "version": 3
   },
   "file_extension": ".py",
   "mimetype": "text/x-python",
   "name": "python",
   "nbconvert_exporter": "python",
   "pygments_lexer": "ipython3",
   "version": "3.9.13"
  }
 },
 "nbformat": 4,
 "nbformat_minor": 2
}
