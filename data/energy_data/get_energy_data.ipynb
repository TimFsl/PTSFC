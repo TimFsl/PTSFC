{
 "cells": [
  {
   "cell_type": "code",
   "execution_count": 1,
   "metadata": {},
   "outputs": [],
   "source": [
    "import pandas as pd\n",
    "import numpy as np\n",
    "import matplotlib.pyplot as plt\n",
    "import seaborn as sns\n",
    "import requests\n",
    "from datetime import datetime\n",
    "from tqdm import tqdm"
   ]
  },
  {
   "cell_type": "code",
   "execution_count": 2,
   "metadata": {},
   "outputs": [],
   "source": [
    "def get_energy_data():\n",
    "\n",
    "    # get all available time stamps\n",
    "    stampsurl = \"https://www.smard.de/app/chart_data/410/DE/index_hour.json\"\n",
    "    response = requests.get(stampsurl)\n",
    "    #ignore first 6 years (don't need those in the baseline and speeds the code up a bit)\n",
    "    timestamps = list(response.json()[\"timestamps\"])[1*52:]\n",
    "\n",
    " \n",
    "    col_names = ['date_time','Netzlast_Gesamt']\n",
    "    energydata = pd.DataFrame(columns=col_names)\n",
    "    \n",
    "    # loop over all available timestamps\n",
    "    for stamp in tqdm(timestamps):\n",
    "\n",
    "        dataurl = \"https://www.smard.de/app/chart_data/410/DE/410_DE_hour_\" + str(stamp) + \".json\"\n",
    "        response = requests.get(dataurl)\n",
    "        rawdata = response.json()[\"series\"]\n",
    "        for i in range(len(rawdata)):\n",
    "\n",
    "            rawdata[i][0] = datetime.fromtimestamp(int(str(rawdata[i][0])[:10])).strftime(\"%Y-%m-%d %H:%M:%S\")\n",
    "\n",
    "        energydata = pd.concat([energydata, pd.DataFrame(rawdata, columns=col_names)])\n",
    "\n",
    "    energydata = energydata.dropna()\n",
    "    energydata[\"date_time\"] = pd.to_datetime(energydata.date_time) #+ pd.DateOffset(hours=1) #adjust for correct time 'label'\n",
    "    #set date_time as index\n",
    "    energydata.set_index(\"date_time\", inplace=True)\n",
    "\n",
    "    return energydata"
   ]
  },
  {
   "cell_type": "code",
   "execution_count": 3,
   "metadata": {},
   "outputs": [
    {
     "name": "stderr",
     "output_type": "stream",
     "text": [
      "100%|██████████| 481/481 [01:41<00:00,  4.76it/s]\n"
     ]
    }
   ],
   "source": [
    "df = get_energy_data()"
   ]
  },
  {
   "cell_type": "code",
   "execution_count": 4,
   "metadata": {},
   "outputs": [
    {
     "data": {
      "text/html": [
       "<div>\n",
       "<style scoped>\n",
       "    .dataframe tbody tr th:only-of-type {\n",
       "        vertical-align: middle;\n",
       "    }\n",
       "\n",
       "    .dataframe tbody tr th {\n",
       "        vertical-align: top;\n",
       "    }\n",
       "\n",
       "    .dataframe thead th {\n",
       "        text-align: right;\n",
       "    }\n",
       "</style>\n",
       "<table border=\"1\" class=\"dataframe\">\n",
       "  <thead>\n",
       "    <tr style=\"text-align: right;\">\n",
       "      <th></th>\n",
       "      <th>target</th>\n",
       "    </tr>\n",
       "    <tr>\n",
       "      <th>Datetime</th>\n",
       "      <th></th>\n",
       "    </tr>\n",
       "  </thead>\n",
       "  <tbody>\n",
       "    <tr>\n",
       "      <th>2015-12-28 00:00:00+01:00</th>\n",
       "      <td>39.89700</td>\n",
       "    </tr>\n",
       "    <tr>\n",
       "      <th>2015-12-28 01:00:00+01:00</th>\n",
       "      <td>38.08825</td>\n",
       "    </tr>\n",
       "    <tr>\n",
       "      <th>2015-12-28 02:00:00+01:00</th>\n",
       "      <td>37.61350</td>\n",
       "    </tr>\n",
       "    <tr>\n",
       "      <th>2015-12-28 03:00:00+01:00</th>\n",
       "      <td>38.02725</td>\n",
       "    </tr>\n",
       "    <tr>\n",
       "      <th>2015-12-28 04:00:00+01:00</th>\n",
       "      <td>39.45200</td>\n",
       "    </tr>\n",
       "    <tr>\n",
       "      <th>...</th>\n",
       "      <td>...</td>\n",
       "    </tr>\n",
       "    <tr>\n",
       "      <th>2025-03-13 15:00:00+01:00</th>\n",
       "      <td>63.67975</td>\n",
       "    </tr>\n",
       "    <tr>\n",
       "      <th>2025-03-13 16:00:00+01:00</th>\n",
       "      <td>62.89950</td>\n",
       "    </tr>\n",
       "    <tr>\n",
       "      <th>2025-03-13 17:00:00+01:00</th>\n",
       "      <td>64.20900</td>\n",
       "    </tr>\n",
       "    <tr>\n",
       "      <th>2025-03-13 18:00:00+01:00</th>\n",
       "      <td>65.77825</td>\n",
       "    </tr>\n",
       "    <tr>\n",
       "      <th>2025-03-13 19:00:00+01:00</th>\n",
       "      <td>65.73200</td>\n",
       "    </tr>\n",
       "  </tbody>\n",
       "</table>\n",
       "<p>80730 rows × 1 columns</p>\n",
       "</div>"
      ],
      "text/plain": [
       "                             target\n",
       "Datetime                           \n",
       "2015-12-28 00:00:00+01:00  39.89700\n",
       "2015-12-28 01:00:00+01:00  38.08825\n",
       "2015-12-28 02:00:00+01:00  37.61350\n",
       "2015-12-28 03:00:00+01:00  38.02725\n",
       "2015-12-28 04:00:00+01:00  39.45200\n",
       "...                             ...\n",
       "2025-03-13 15:00:00+01:00  63.67975\n",
       "2025-03-13 16:00:00+01:00  62.89950\n",
       "2025-03-13 17:00:00+01:00  64.20900\n",
       "2025-03-13 18:00:00+01:00  65.77825\n",
       "2025-03-13 19:00:00+01:00  65.73200\n",
       "\n",
       "[80730 rows x 1 columns]"
      ]
     },
     "execution_count": 4,
     "metadata": {},
     "output_type": "execute_result"
    }
   ],
   "source": [
    "df.rename(columns={'Netzlast_Gesamt':'target'}, inplace=True)\n",
    "df.index.name = 'Datetime'\n",
    "df.index = pd.to_datetime(df.index)\n",
    "df = df.tz_localize('Europe/Berlin', ambiguous='infer', nonexistent='raise')\n",
    "# In UTC konvertieren\n",
    "df1 = df.tz_convert('UTC')\n",
    "\n",
    "# Wieder zurück nach Europe/Berlin konvertieren\n",
    "df1 = df.tz_convert('Europe/Berlin')\n",
    "df.index = pd.to_datetime(df1.index)\n",
    "\n",
    "df['target']= df['target']/1000\n",
    "\n",
    "df.to_csv(\"energy_data.csv\", index = True)\n",
    "df\n"
   ]
  },
  {
   "cell_type": "code",
   "execution_count": 5,
   "metadata": {},
   "outputs": [
    {
     "name": "stdout",
     "output_type": "stream",
     "text": [
      "Es fehlen 2 Stunden im Index.\n",
      "Liste der fehlenden Stunden:\n",
      "DatetimeIndex(['2025-03-11 04:00:00+01:00', '2025-03-11 05:00:00+01:00'], dtype='datetime64[ns, Europe/Berlin]', freq=None)\n",
      "Anzahl der NaN-Werte in der target-Spalte: 0\n"
     ]
    }
   ],
   "source": [
    "# Start- und Enddatum im DataFrame-Index bestimmen\n",
    "start_date = df.index.min()\n",
    "end_date = df.index.max()\n",
    "\n",
    "# Alle Stunden zwischen Start- und Enddatum erzeugen\n",
    "all_hours = pd.date_range(start=start_date, end=end_date, freq='H')\n",
    "\n",
    "# Fehlende Stunden finden\n",
    "missing_hours = all_hours.difference(df.index)\n",
    "\n",
    "# Anzahl der fehlenden Stunden\n",
    "missing_count = len(missing_hours)\n",
    "\n",
    "print(f\"Es fehlen {missing_count} Stunden im Index.\")\n",
    "print(\"Liste der fehlenden Stunden:\")\n",
    "print(missing_hours)\n",
    "\n",
    "nan_count = df['target'].isna().sum()\n",
    "print(f\"Anzahl der NaN-Werte in der target-Spalte: {nan_count}\")"
   ]
  }
 ],
 "metadata": {
  "kernelspec": {
   "display_name": "base",
   "language": "python",
   "name": "python3"
  },
  "language_info": {
   "codemirror_mode": {
    "name": "ipython",
    "version": 3
   },
   "file_extension": ".py",
   "mimetype": "text/x-python",
   "name": "python",
   "nbconvert_exporter": "python",
   "pygments_lexer": "ipython3",
   "version": "3.9.13"
  }
 },
 "nbformat": 4,
 "nbformat_minor": 2
}
